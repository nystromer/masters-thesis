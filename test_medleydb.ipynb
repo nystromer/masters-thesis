{
 "cells": [
  {
   "cell_type": "code",
   "execution_count": 41,
   "metadata": {},
   "outputs": [
    {
     "name": "stdout",
     "output_type": "stream",
     "text": [
      "/home/carlnys/data/medleydb_audio\n"
     ]
    }
   ],
   "source": [
    "import medleydb as mdb\n",
    "from medleydb import MEDLEYDB_PATH\n",
    "print(MEDLEYDB_PATH)"
   ]
  },
  {
   "cell_type": "code",
   "execution_count": 4,
   "metadata": {},
   "outputs": [
    {
     "name": "stdout",
     "output_type": "stream",
     "text": [
      "AClassicEducation_NightOwl\n",
      "AimeeNorwich_Child\n",
      "AimeeNorwich_Flying\n",
      "AlexanderRoss_GoodbyeBolero\n",
      "AlexanderRoss_VelvetCurtain\n",
      "AmarLal_Rest\n",
      "AmarLal_SpringDay1\n",
      "Auctioneer_OurFutureFaces\n",
      "AvaLuna_Waterduct\n",
      "BigTroubles_Phantom\n",
      "BrandonWebster_DontHearAThing\n",
      "BrandonWebster_YesSirICanFly\n",
      "CelestialShore_DieForUs\n",
      "ChrisJacoby_BoothShotLincoln\n",
      "ChrisJacoby_PigsFoot\n",
      "ClaraBerryAndWooldog_AirTraffic\n",
      "ClaraBerryAndWooldog_Boys\n",
      "ClaraBerryAndWooldog_Stella\n",
      "ClaraBerryAndWooldog_TheBadGuys\n",
      "ClaraBerryAndWooldog_WaltzForMyVictims\n",
      "Creepoid_OldTree\n",
      "CroqueMadame_Oil\n",
      "CroqueMadame_Pilot\n",
      "Debussy_LenfantProdigue\n",
      "DreamersOfTheGhetto_HeavyLove\n",
      "EthanHein_1930sSynthAndUprightBass\n",
      "EthanHein_BluesForNofi\n",
      "EthanHein_GirlOnABridge\n",
      "EthanHein_HarmonicaFigure\n",
      "FacesOnFilm_WaitingForGa\n",
      "FamilyBand_Again\n",
      "Grants_PunchDrunk\n",
      "Handel_TornamiAVagheggiar\n",
      "HeladoNegro_MitadDelMundo\n",
      "HezekiahJones_BorrowedHeart\n",
      "HopAlong_SisterCities\n",
      "InvisibleFamiliars_DisturbingWildlife\n",
      "JoelHelander_Definition\n",
      "JoelHelander_ExcessiveResistancetoChange\n",
      "JoelHelander_IntheAtticBedroom\n",
      "KarimDouaidy_Hopscotch\n",
      "KarimDouaidy_Yatora\n",
      "LizNelson_Coldwar\n",
      "LizNelson_ImComingHome\n",
      "LizNelson_Rainfall\n",
      "Lushlife_ToynbeeSuite\n",
      "MatthewEntwistle_AnEveningWithOliver\n",
      "MatthewEntwistle_DontYouEver\n",
      "MatthewEntwistle_FairerHopes\n",
      "MatthewEntwistle_ImpressionsOfSaturn\n",
      "MatthewEntwistle_Lontano\n",
      "MatthewEntwistle_TheArch\n",
      "MatthewEntwistle_TheFlaxenField\n",
      "Meaxic_TakeAStep\n",
      "Meaxic_YouListen\n",
      "MichaelKropf_AllGoodThings\n",
      "Mozart_BesterJungling\n",
      "Mozart_DiesBildnis\n",
      "MusicDelta_80sRock\n",
      "MusicDelta_Beatles\n",
      "MusicDelta_BebopJazz\n",
      "MusicDelta_Beethoven\n",
      "MusicDelta_Britpop\n",
      "MusicDelta_ChineseChaoZhou\n",
      "MusicDelta_ChineseDrama\n",
      "MusicDelta_ChineseHenan\n",
      "MusicDelta_ChineseJiangNan\n",
      "MusicDelta_ChineseXinJing\n",
      "MusicDelta_ChineseYaoZu\n",
      "MusicDelta_CoolJazz\n",
      "MusicDelta_Country1\n",
      "MusicDelta_Country2\n",
      "MusicDelta_Disco\n",
      "MusicDelta_FreeJazz\n",
      "MusicDelta_FunkJazz\n",
      "MusicDelta_FusionJazz\n",
      "MusicDelta_Gospel\n",
      "MusicDelta_GriegTrolltog\n",
      "MusicDelta_Grunge\n",
      "MusicDelta_Hendrix\n",
      "MusicDelta_InTheHalloftheMountainKing\n",
      "MusicDelta_LatinJazz\n",
      "MusicDelta_ModalJazz\n",
      "MusicDelta_Pachelbel\n",
      "MusicDelta_Punk\n",
      "MusicDelta_Reggae\n",
      "MusicDelta_Rock\n",
      "MusicDelta_Rockabilly\n",
      "MusicDelta_Shadows\n",
      "MusicDelta_SpeedMetal\n",
      "MusicDelta_SwingJazz\n",
      "MusicDelta_Vivaldi\n",
      "MusicDelta_Zeppelin\n",
      "NightPanther_Fire\n",
      "Phoenix_BrokenPledgeChicagoReel\n",
      "Phoenix_ColliersDaughter\n",
      "Phoenix_ElzicsFarewell\n",
      "Phoenix_LarkOnTheStrandDrummondCastle\n",
      "Phoenix_ScotchMorris\n",
      "Phoenix_SeanCaughlinsTheScartaglen\n",
      "PortStWillow_StayEven\n",
      "PurlingHiss_Lolita\n",
      "Schubert_Erstarrung\n",
      "Schumann_Mignon\n",
      "SecretMountains_HighHorse\n",
      "Snowmine_Curfews\n",
      "StevenClark_Bounty\n",
      "StrandOfOaks_Spacestation\n",
      "SweetLights_YouLetMeDown\n",
      "TablaBreakbeatScience_Animoog\n",
      "TablaBreakbeatScience_CaptainSky\n",
      "TablaBreakbeatScience_MiloVsMongo\n",
      "TablaBreakbeatScience_MoodyPlucks\n",
      "TablaBreakbeatScience_PhaseTransition\n",
      "TablaBreakbeatScience_RockSteady\n",
      "TablaBreakbeatScience_Scorpio\n",
      "TablaBreakbeatScience_Vger\n",
      "TablaBreakbeatScience_WhoIsIt\n",
      "TheDistricts_Vermont\n",
      "TheScarletBrand_LesFleursDuMal\n",
      "TheSoSoGlos_Emergency\n",
      "Wolf_DieBekherte\n"
     ]
    }
   ],
   "source": [
    "m_gen = mdb.load_all_multitracks()\n",
    "num_tracks = 0\n",
    "for track in m_gen:\n",
    "    num_tracks += 1\n",
    "    print(track.track_id)"
   ]
  },
  {
   "cell_type": "code",
   "execution_count": 5,
   "metadata": {},
   "outputs": [
    {
     "name": "stdout",
     "output_type": "stream",
     "text": [
      "122\n"
     ]
    }
   ],
   "source": [
    "print(num_tracks)"
   ]
  },
  {
   "cell_type": "code",
   "execution_count": 37,
   "metadata": {},
   "outputs": [
    {
     "name": "stdout",
     "output_type": "stream",
     "text": [
      "__class__\n",
      "__delattr__\n",
      "__dict__\n",
      "__dir__\n",
      "__doc__\n",
      "__eq__\n",
      "__format__\n",
      "__ge__\n",
      "__getattribute__\n",
      "__gt__\n",
      "__hash__\n",
      "__init__\n",
      "__init_subclass__\n",
      "__le__\n",
      "__lt__\n",
      "__module__\n",
      "__ne__\n",
      "__new__\n",
      "__reduce__\n",
      "__reduce_ex__\n",
      "__repr__\n",
      "__setattr__\n",
      "__sizeof__\n",
      "__str__\n",
      "__subclasshook__\n",
      "__weakref__\n",
      "_duration\n",
      "_pitch_annotation\n",
      "_pitch_estimate_pyin\n",
      "audio_path\n",
      "component\n",
      "duration\n",
      "f0_type\n",
      "instrument\n",
      "mix_path\n",
      "mixing_coefficient\n",
      "pitch_annotation\n",
      "pitch_estimate_pyin\n",
      "pitch_path\n",
      "pitch_pyin_path\n",
      "ranking\n",
      "raw_idx\n",
      "stem_idx\n",
      "__class__\n",
      "__delattr__\n",
      "__dict__\n",
      "__dir__\n",
      "__doc__\n",
      "__eq__\n",
      "__format__\n",
      "__ge__\n",
      "__getattribute__\n",
      "__gt__\n",
      "__hash__\n",
      "__init__\n",
      "__init_subclass__\n",
      "__le__\n",
      "__lt__\n",
      "__module__\n",
      "__ne__\n",
      "__new__\n",
      "__reduce__\n",
      "__reduce_ex__\n",
      "__repr__\n",
      "__setattr__\n",
      "__sizeof__\n",
      "__str__\n",
      "__subclasshook__\n",
      "__weakref__\n",
      "_duration\n",
      "_pitch_annotation\n",
      "_pitch_estimate_pyin\n",
      "audio_path\n",
      "component\n",
      "duration\n",
      "f0_type\n",
      "instrument\n",
      "mix_path\n",
      "mixing_coefficient\n",
      "pitch_annotation\n",
      "pitch_estimate_pyin\n",
      "pitch_path\n",
      "pitch_pyin_path\n",
      "ranking\n",
      "raw_idx\n",
      "stem_idx\n",
      "__class__\n",
      "__delattr__\n",
      "__dict__\n",
      "__dir__\n",
      "__doc__\n",
      "__eq__\n",
      "__format__\n",
      "__ge__\n",
      "__getattribute__\n",
      "__gt__\n",
      "__hash__\n",
      "__init__\n",
      "__init_subclass__\n",
      "__le__\n",
      "__lt__\n",
      "__module__\n",
      "__ne__\n",
      "__new__\n",
      "__reduce__\n",
      "__reduce_ex__\n",
      "__repr__\n",
      "__setattr__\n",
      "__sizeof__\n",
      "__str__\n",
      "__subclasshook__\n",
      "__weakref__\n",
      "_duration\n",
      "_pitch_annotation\n",
      "_pitch_estimate_pyin\n",
      "audio_path\n",
      "component\n",
      "duration\n",
      "f0_type\n",
      "instrument\n",
      "mix_path\n",
      "mixing_coefficient\n",
      "pitch_annotation\n",
      "pitch_estimate_pyin\n",
      "pitch_path\n",
      "pitch_pyin_path\n",
      "ranking\n",
      "raw_idx\n",
      "stem_idx\n",
      "__class__\n",
      "__delattr__\n",
      "__dict__\n",
      "__dir__\n",
      "__doc__\n",
      "__eq__\n",
      "__format__\n",
      "__ge__\n",
      "__getattribute__\n",
      "__gt__\n",
      "__hash__\n",
      "__init__\n",
      "__init_subclass__\n",
      "__le__\n",
      "__lt__\n",
      "__module__\n",
      "__ne__\n",
      "__new__\n",
      "__reduce__\n",
      "__reduce_ex__\n",
      "__repr__\n",
      "__setattr__\n",
      "__sizeof__\n",
      "__str__\n",
      "__subclasshook__\n",
      "__weakref__\n",
      "_duration\n",
      "_pitch_annotation\n",
      "_pitch_estimate_pyin\n",
      "audio_path\n",
      "component\n",
      "duration\n",
      "f0_type\n",
      "instrument\n",
      "mix_path\n",
      "mixing_coefficient\n",
      "pitch_annotation\n",
      "pitch_estimate_pyin\n",
      "pitch_path\n",
      "pitch_pyin_path\n",
      "ranking\n",
      "raw_idx\n",
      "stem_idx\n"
     ]
    }
   ],
   "source": [
    "example_track = mdb.MultiTrack('MusicDelta_Hendrix')\n",
    "#dir(example_track)\n",
    "for _, stems in example_track.stems.items():\n",
    "    stem_dir = dir(stems)\n",
    "    for thing in stem_dir:\n",
    "        print(thing)\n",
    "        #print(stems)"
   ]
  },
  {
   "cell_type": "code",
   "execution_count": 6,
   "metadata": {},
   "outputs": [],
   "source": [
    "track_ids = ['MusicDelta_Rock', 'MusicDelta_Reggae', 'MusicDelta_Disco']\n",
    "dataset_subset = mdb.load_multitracks(track_ids)"
   ]
  },
  {
   "cell_type": "code",
   "execution_count": 7,
   "metadata": {},
   "outputs": [],
   "source": [
    "def count_tracks_for_instrument(instrument):\n",
    "    tracks = mdb.get_files_for_instrument(instrument)\n",
    "    return sum(1 for track in tracks)"
   ]
  },
  {
   "cell_type": "code",
   "execution_count": 9,
   "metadata": {},
   "outputs": [
    {
     "name": "stdout",
     "output_type": "stream",
     "text": [
      "Instrument 121/122\r"
     ]
    }
   ],
   "source": [
    "instruments = mdb.get_valid_instrument_labels()\n",
    "num_instruments = sum(1 for instrument in instruments)\n",
    "instrument_count = []\n",
    "count = 0\n",
    "for instrument in instruments:\n",
    "    instrument_count.append(count_tracks_for_instrument(instrument))\n",
    "    print(\"Instrument %s/%s\" % (count, num_instruments), end=\"\\r\")\n",
    "    count += 1"
   ]
  },
  {
   "cell_type": "code",
   "execution_count": 10,
   "metadata": {},
   "outputs": [],
   "source": [
    "instrument_w_counts = list(zip(instruments, instrument_count))"
   ]
  },
  {
   "cell_type": "code",
   "execution_count": 11,
   "metadata": {},
   "outputs": [],
   "source": [
    "sorted_list = sorted(instrument_w_counts, key=lambda x: x[1], reverse=True)"
   ]
  },
  {
   "cell_type": "code",
   "execution_count": 12,
   "metadata": {},
   "outputs": [
    {
     "name": "stdout",
     "output_type": "stream",
     "text": [
      "[('drum set', 66), ('electric bass', 63), ('clean electric guitar', 56), ('synthesizer', 47), ('male singer', 44), ('piano', 43), ('fx/processed sound', 41), ('distorted electric guitar', 34), ('vocalists', 33), ('female singer', 32), ('violin', 27), ('acoustic guitar', 26), ('auxiliary percussion', 18), ('drum machine', 18), ('violin section', 18), ('double bass', 17), ('tabla', 16), ('cello', 13), ('flute', 12), ('tack piano', 10), ('clarinet', 9), ('brass section', 9), ('mandolin', 9), ('trumpet', 8), ('viola', 8), ('vibraphone', 8), ('cymbal', 7), ('timpani', 7), ('male rapper', 6), ('yangqin', 6), ('erhu', 6), ('Main System', 6), ('french horn', 6), ('string section', 6), ('bassoon', 6), ('accordion', 5), ('trumpet section', 5), ('cello section', 5), ('oboe', 5), ('dizi', 5), ('claps', 5), ('guzheng', 5), ('horn section', 4), ('trombone', 4), ('lap steel guitar', 4), ('piccolo', 4), ('viola section', 4), ('french horn section', 3), ('sampler', 3), ('zhongruan', 3), ('tenor saxophone', 3), ('harp', 3), ('electric piano', 3), ('clarinet section', 3), ('glockenspiel', 3), ('tambourine', 2), ('liuqin', 2), ('flute section', 2), ('snare drum', 2), ('tuba', 2), ('oud', 2), ('harmonica', 2), ('banjo', 2), ('gong', 2), ('bongo', 1), ('darbuka', 1), ('trombone section', 1), ('chimes', 1), ('bass drum', 1), ('melodica', 1), ('scratches', 1), ('soprano saxophone', 1), ('bass clarinet', 1), ('kick drum', 1), ('toms', 1), ('doumbek', 1), ('male speaker', 1), ('shaker', 1), ('bamboo flute', 1), ('alto saxophone', 1), ('baritone saxophone', 1), ('gu', 1), ('marimba', 0), ('beatboxing', 0), ('choir', 0), ('crowd', 0), ('cowbell', 0), ('castanet', 0), ('dulcimer', 0), ('high hat', 0), ('guiro', 0), ('female screamer', 0), ('triangle', 0), ('female rapper', 0), ('bandoneon', 0), ('panpipes', 0), ('recorder', 0), ('harmonium', 0), ('english horn', 0), ('pipe organ', 0), ('ukulele', 0), ('electronic organ', 0), ('theremin', 0), ('concertina', 0), ('snaps', 0), ('slide guitar', 0), ('sleigh bells', 0), ('cabasa', 0), ('bagpipe', 0), ('male screamer', 0), ('whistle', 0), ('cornet', 0), ('harpsichord', 0), ('xylophone', 0), ('conga', 0), ('euphonium', 0), ('dilruba', 0), ('sitar', 0), ('Unlabeled', 0), ('female speaker', 0), ('maracas', 0), ('rattle', 0)]\n"
     ]
    }
   ],
   "source": [
    "print(sorted_list)"
   ]
  },
  {
   "cell_type": "code",
   "execution_count": 13,
   "metadata": {},
   "outputs": [
    {
     "data": {
      "image/png": "[encoded data removed]",
      "text/plain": [
       "<Figure size 432x288 with 1 Axes>"
      ]
     },
     "metadata": {
      "needs_background": "light"
     },
     "output_type": "display_data"
    }
   ],
   "source": [
    "import matplotlib.pyplot as plt\n",
    "fig = plt.figure()\n",
    "ax = fig.add_axes([0,0,1,1])\n",
    "instruments = [t[0] for t in sorted_list]\n",
    "counts = [t[1] for t in sorted_list]\n",
    "ax.bar(instruments,counts)\n",
    "plt.show()"
   ]
  },
  {
   "cell_type": "code",
   "execution_count": 15,
   "metadata": {},
   "outputs": [
    {
     "data": {
      "image/png": "[encoded data removed]",
      "text/plain": [
       "<Figure size 432x288 with 1 Axes>"
      ]
     },
     "metadata": {},
     "output_type": "display_data"
    }
   ],
   "source": [
    "labels = ['Cookies', 'Jellybean', 'Milkshake', 'Cheesecake']\n",
    "sizes = [38.4, 40.6, 20.7, 10.3]\n",
    "colors = ['yellowgreen', 'gold', 'lightskyblue', 'lightcoral']\n",
    "patches, texts = plt.pie(counts, colors=colors, shadow=True, startangle=90)\n",
    "plt.axis('equal')\n",
    "plt.tight_layout()\n",
    "plt.show()"
   ]
  },
  {
   "cell_type": "code",
   "execution_count": 18,
   "metadata": {},
   "outputs": [
    {
     "name": "stdout",
     "output_type": "stream",
     "text": [
      "/home/carlnys/data/medleydb_audio/Audio/AimeeNorwich_Child/AimeeNorwich_Child_STEMS/AimeeNorwich_Child_STEM_04.wav\n",
      "/home/carlnys/data/medleydb_audio/Audio/AimeeNorwich_Child/AimeeNorwich_Child_STEMS/AimeeNorwich_Child_STEM_07.wav\n",
      "AimeeNorwich_Child\n",
      "saving...\n",
      "/home/carlnys/data/medleydb_audio/Audio/AlexanderRoss_GoodbyeBolero/AlexanderRoss_GoodbyeBolero_STEMS/AlexanderRoss_GoodbyeBolero_STEM_01.wav\n",
      "/home/carlnys/data/medleydb_audio/Audio/AlexanderRoss_GoodbyeBolero/AlexanderRoss_GoodbyeBolero_STEMS/AlexanderRoss_GoodbyeBolero_STEM_06.wav\n",
      "AlexanderRoss_GoodbyeBolero\n",
      "saving...\n",
      "/home/carlnys/data/medleydb_audio/Audio/AlexanderRoss_VelvetCurtain/AlexanderRoss_VelvetCurtain_STEMS/AlexanderRoss_VelvetCurtain_STEM_01.wav\n",
      "/home/carlnys/data/medleydb_audio/Audio/AlexanderRoss_VelvetCurtain/AlexanderRoss_VelvetCurtain_STEMS/AlexanderRoss_VelvetCurtain_STEM_06.wav\n",
      "AlexanderRoss_VelvetCurtain\n",
      "saving...\n",
      "/home/carlnys/data/medleydb_audio/Audio/FacesOnFilm_WaitingForGa/FacesOnFilm_WaitingForGa_STEMS/FacesOnFilm_WaitingForGa_STEM_01.wav\n",
      "/home/carlnys/data/medleydb_audio/Audio/FacesOnFilm_WaitingForGa/FacesOnFilm_WaitingForGa_STEMS/FacesOnFilm_WaitingForGa_STEM_03.wav\n",
      "FacesOnFilm_WaitingForGa\n",
      "saving...\n",
      "/home/carlnys/data/medleydb_audio/Audio/FamilyBand_Again/FamilyBand_Again_STEMS/FamilyBand_Again_STEM_04.wav\n",
      "/home/carlnys/data/medleydb_audio/Audio/FamilyBand_Again/FamilyBand_Again_STEMS/FamilyBand_Again_STEM_09.wav\n",
      "FamilyBand_Again\n",
      "saving...\n",
      "/home/carlnys/data/medleydb_audio/Audio/HezekiahJones_BorrowedHeart/HezekiahJones_BorrowedHeart_STEMS/HezekiahJones_BorrowedHeart_STEM_01.wav\n",
      "/home/carlnys/data/medleydb_audio/Audio/HezekiahJones_BorrowedHeart/HezekiahJones_BorrowedHeart_STEMS/HezekiahJones_BorrowedHeart_STEM_10.wav\n",
      "HezekiahJones_BorrowedHeart\n",
      "saving...\n",
      "/home/carlnys/data/medleydb_audio/Audio/HopAlong_SisterCities/HopAlong_SisterCities_STEMS/HopAlong_SisterCities_STEM_01.wav\n",
      "/home/carlnys/data/medleydb_audio/Audio/HopAlong_SisterCities/HopAlong_SisterCities_STEMS/HopAlong_SisterCities_STEM_07.wav\n",
      "HopAlong_SisterCities\n",
      "saving...\n",
      "/home/carlnys/data/medleydb_audio/Audio/KarimDouaidy_Hopscotch/KarimDouaidy_Hopscotch_STEMS/KarimDouaidy_Hopscotch_STEM_02.wav\n",
      "/home/carlnys/data/medleydb_audio/Audio/KarimDouaidy_Hopscotch/KarimDouaidy_Hopscotch_STEMS/KarimDouaidy_Hopscotch_STEM_06.wav\n",
      "KarimDouaidy_Hopscotch\n",
      "saving...\n",
      "/home/carlnys/data/medleydb_audio/Audio/LizNelson_Coldwar/LizNelson_Coldwar_STEMS/LizNelson_Coldwar_STEM_01.wav\n",
      "/home/carlnys/data/medleydb_audio/Audio/LizNelson_Coldwar/LizNelson_Coldwar_STEMS/LizNelson_Coldwar_STEM_02.wav\n",
      "LizNelson_Coldwar\n",
      "saving...\n",
      "/home/carlnys/data/medleydb_audio/Audio/LizNelson_Rainfall/LizNelson_Rainfall_STEMS/LizNelson_Rainfall_STEM_01.wav\n",
      "/home/carlnys/data/medleydb_audio/Audio/LizNelson_Rainfall/LizNelson_Rainfall_STEMS/LizNelson_Rainfall_STEM_04.wav\n",
      "LizNelson_Rainfall\n",
      "saving...\n",
      "/home/carlnys/data/medleydb_audio/Audio/Meaxic_YouListen/Meaxic_YouListen_STEMS/Meaxic_YouListen_STEM_01.wav\n",
      "/home/carlnys/data/medleydb_audio/Audio/Meaxic_YouListen/Meaxic_YouListen_STEMS/Meaxic_YouListen_STEM_03.wav\n",
      "Meaxic_YouListen\n",
      "saving...\n",
      "/home/carlnys/data/medleydb_audio/Audio/MusicDelta_Beatles/MusicDelta_Beatles_STEMS/MusicDelta_Beatles_STEM_05.wav\n",
      "/home/carlnys/data/medleydb_audio/Audio/MusicDelta_Beatles/MusicDelta_Beatles_STEMS/MusicDelta_Beatles_STEM_07.wav\n",
      "MusicDelta_Beatles\n",
      "saving...\n",
      "/home/carlnys/data/medleydb_audio/Audio/MusicDelta_Country1/MusicDelta_Country1_STEMS/MusicDelta_Country1_STEM_03.wav\n",
      "/home/carlnys/data/medleydb_audio/Audio/MusicDelta_Country1/MusicDelta_Country1_STEMS/MusicDelta_Country1_STEM_04.wav\n",
      "/home/carlnys/data/medleydb_audio/Audio/MusicDelta_Country1/MusicDelta_Country1_STEMS/MusicDelta_Country1_STEM_05.wav\n",
      "MusicDelta_Country1\n",
      "saving...\n",
      "/home/carlnys/data/medleydb_audio/Audio/SweetLights_YouLetMeDown/SweetLights_YouLetMeDown_STEMS/SweetLights_YouLetMeDown_STEM_01.wav\n",
      "/home/carlnys/data/medleydb_audio/Audio/SweetLights_YouLetMeDown/SweetLights_YouLetMeDown_STEMS/SweetLights_YouLetMeDown_STEM_08.wav\n",
      "SweetLights_YouLetMeDown\n",
      "saving...\n",
      "/home/carlnys/data/medleydb_audio/Audio/TheSoSoGlos_Emergency/TheSoSoGlos_Emergency_STEMS/TheSoSoGlos_Emergency_STEM_05.wav\n",
      "/home/carlnys/data/medleydb_audio/Audio/TheSoSoGlos_Emergency/TheSoSoGlos_Emergency_STEMS/TheSoSoGlos_Emergency_STEM_09.wav\n",
      "TheSoSoGlos_Emergency\n",
      "saving...\n"
     ]
    }
   ],
   "source": [
    "import medleydb as mdb\n",
    "import librosa\n",
    "import os\n",
    "instruments = ['male singer', 'female singer']\n",
    "back_instruments = ['acoustic guitar']\n",
    "\n",
    "mixtrack=[] \n",
    "track_name = ''\n",
    "mtrack_generator = mdb.load_all_multitracks()\n",
    "for mtrack in mtrack_generator:\n",
    "    mixtrack = []\n",
    "    track = mdb.MultiTrack(mtrack.track_id)\n",
    "    mixtrack.append(track.track_id)\n",
    "   \n",
    "    #print(track.track_id)\n",
    "    #for key, stem in track.stems.items():\n",
    "    #    #print(stem.instrument[0])\n",
    "    #    #print(stem.audio_path)\n",
    "    #    if stem.instrument[0] in instruments:\n",
    "    #        if stem.ranking == 1:\n",
    "    #            mixtrack.append(stem.audio_path)\n",
    "    #\n",
    "    #    if stem.instrument[0] in back_instruments:\n",
    "    #        mixtrack.append(stem.audio_path)\n",
    "            \n",
    "    for key, stem in track.stems.items():\n",
    "        #print(stem.instrument[0])\n",
    "        #print(stem.audio_path)\n",
    "        if stem.instrument[0] in instruments:\n",
    "            if stem.ranking == 1:\n",
    "                mixtrack.append(stem.audio_path)\n",
    "\n",
    "        if stem.instrument[0] in back_instruments:\n",
    "            mixtrack.append(stem.audio_path)\n",
    "\n",
    "    if len(mixtrack) > 2:\n",
    "        #print(mixtrack)\n",
    "        result = None\n",
    "        sr_out = 0\n",
    "        track_name = mixtrack.pop(0)\n",
    "        for mt in mixtrack:\n",
    "            print(mt)\n",
    "            y, sr = librosa.load(mt, sr=None)\n",
    "            if result is None:\n",
    "                result = y\n",
    "                sr_out = sr\n",
    "            else:\n",
    "                result = result + y\n",
    "\n",
    "        librosa.output.write_wav(track_name + 'test2.wav', result, sr_out)\n",
    "        print(track_name)\n",
    "        print(\"saving...\")"
   ]
  },
  {
   "cell_type": "code",
   "execution_count": 2,
   "metadata": {},
   "outputs": [
    {
     "name": "stdout",
     "output_type": "stream",
     "text": [
      "/home/carlnys/data/medleydb_audio\n",
      "/home/carlnys/data/medleydb_audio/Audio\n"
     ]
    }
   ],
   "source": [
    "import os \n",
    "print(os.environ['MEDLEYDB_PATH'])\n",
    "import medleydb as mdb\n",
    "from medleydb import AUDIO_PATH\n",
    "print(AUDIO_PATH)"
   ]
  },
  {
   "cell_type": "code",
   "execution_count": 15,
   "metadata": {},
   "outputs": [],
   "source": [
    "import IPython.display as ipd\n",
    "def play_audio(array, sample_rate):\n",
    "    ipd.display(ipd.Audio(array, rate=sample_rate, autoplay=True))"
   ]
  },
  {
   "cell_type": "code",
   "execution_count": 21,
   "metadata": {},
   "outputs": [],
   "source": [
    "cc\n",
    "y2, sr2 = librosa.load('/home/carlnys/data/medleydb_audio/Audio/AlexanderRoss_GoodbyeBolero/AlexanderRoss_GoodbyeBolero_MIX.wav')"
   ]
  },
  {
   "cell_type": "code",
   "execution_count": null,
   "metadata": {},
   "outputs": [],
   "source": [
    "play_audio(y, sr)"
   ]
  },
  {
   "cell_type": "code",
   "execution_count": null,
   "metadata": {},
   "outputs": [],
   "source": [
    "play_audio(y2, sr2)"
   ]
  },
  {
   "cell_type": "code",
   "execution_count": null,
   "metadata": {},
   "outputs": [],
   "source": []
  }
 ],
 "metadata": {
  "kernelspec": {
   "display_name": "Python 3",
   "language": "python",
   "name": "python3"
  },
  "language_info": {
   "codemirror_mode": {
    "name": "ipython",
    "version": 3
   },
   "file_extension": ".py",
   "mimetype": "text/x-python",
   "name": "python",
   "nbconvert_exporter": "python",
   "pygments_lexer": "ipython3",
   "version": "3.7.4"
  }
 },
 "nbformat": 4,
 "nbformat_minor": 2
}
